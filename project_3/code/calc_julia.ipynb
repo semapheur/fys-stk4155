{
 "cells": [
  {
   "cell_type": "markdown",
   "metadata": {},
   "source": [
    "#### Plotting 1D Heat Equation"
   ]
  },
  {
   "cell_type": "code",
   "execution_count": 5,
   "metadata": {},
   "outputs": [
    {
     "data": {
      "text/plain": [
       "\"c:\\\\Users\\\\danfy\\\\Documents\\\\Projects\\\\fys-stk4155\\\\project_3\\\\code\\\\1d_heat_equation_sinus.pdf\""
      ]
     },
     "metadata": {},
     "output_type": "display_data"
    }
   ],
   "source": [
    "using LaTeXStrings\n",
    "using Plots\n",
    "\n",
    "α = 1.0\n",
    "x = LinRange(0, 1, 100)\n",
    "t = LinRange(0, 1, 100)\n",
    "\n",
    "u_analytic(x, t, α) = sin(π * x) * exp(-α * π^2 * t)\n",
    "\n",
    "u = u_analytic.(x', t, α)\n",
    "\n",
    "surface(t, x, u',\n",
    "  xlabel=L\"t\", ylabel=L\"x\", zlabel=L\"u\",\n",
    "  title=L\"u(x,t) = \\sin(\\pi x) e^{-\\pi^2 t}\",\n",
    "  camera=(30, 30), color=:heat, \n",
    ")\n",
    "savefig(\"1d_heat_equation_sinus.pdf\")"
   ]
  },
  {
   "cell_type": "code",
   "execution_count": null,
   "metadata": {},
   "outputs": [],
   "source": []
  }
 ],
 "metadata": {
  "kernelspec": {
   "display_name": "Julia 1.11.1",
   "language": "julia",
   "name": "julia-1.11"
  },
  "language_info": {
   "file_extension": ".jl",
   "mimetype": "application/julia",
   "name": "julia",
   "version": "1.11.1"
  }
 },
 "nbformat": 4,
 "nbformat_minor": 2
}
