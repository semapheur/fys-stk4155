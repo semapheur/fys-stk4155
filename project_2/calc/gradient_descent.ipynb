{
 "cells": [
  {
   "cell_type": "markdown",
   "metadata": {},
   "source": [
    "#### Hypertuning of ridge regression with momentum"
   ]
  },
  {
   "cell_type": "code",
   "execution_count": null,
   "metadata": {},
   "outputs": [
    {
     "data": {
      "text/plain": [
       "1642"
      ]
     },
     "metadata": {},
     "output_type": "display_data"
    }
   ],
   "source": [
    "include(\"../code/optimization.jl\")\n",
    "include(\"../code/franke.jl\")\n",
    "include(\"../code/hypertuning.jl\")\n",
    "include(\"../code/utils.jl\")\n",
    "\n",
    "using DataFrames\n",
    "using Random\n",
    "\n",
    "Random.seed!(0)\n",
    "\n",
    "n_samples = 1000\n",
    "noise_amplitude = 0.01\n",
    "random_inputs = false\n",
    "\n",
    "X, y = franke_training_data(n_samples, noise_amplitude, random_inputs)\n",
    "X_scaled = standardize_data(X)\n",
    "\n",
    "k_folds = 10\n",
    "trials = 1000\n",
    "max_degrees = 10\n",
    "lr_range = (1e-4, 0.1)\n",
    "l2_lambda_range = (1e-6, 0.1)\n",
    "momentum_range = (0.0, 0.9)\n",
    "\n",
    "best_idx, results = ridge_momentum_gradient_descent_random_search(\n",
    "  X, y,\n",
    "  k_folds,\n",
    "  trials,\n",
    "  max_degrees,\n",
    "  lr_range,\n",
    "  l2_lambda_range,\n",
    "  momentum_range,\n",
    ")\n",
    "\n",
    "df = DataFrame(\n",
    "  degree=[r.degree for r in results],\n",
    "  learning_rate=[r.learning_rate for r in results],\n",
    "  l2_lambda=[r.l2_lambda for r in results],\n",
    "  momentum=[r.momentum for r in results],\n",
    "  mse=[r.mse_mean_std[1] for r in results],\n",
    "  mse_std=[r.mse_mean_std[2] for r in results],\n",
    "  r2=[r.r2_mean_std[1] for r in results],\n",
    "  r2_std=[r.r2_mean_std[2] for r in results],\n",
    ")\n",
    "\n",
    "headers = OrderedDict{String,Union{Symbol,Tuple{Symbol,Symbol}}}(\n",
    "  \"Degree\" => :degree,\n",
    "  \"\\$\\\\eta\\$\" => :learning_rate,\n",
    "  \"\\$\\\\lambda\\$\" => :l2_lambda,\n",
    "  \"\\$\\\\gamma\\$\" => :momentum,\n",
    "  \"MSE\" => (:mse, :mse_std),\n",
    "  \"R^2\" => (:r2, :r2_std),\n",
    ")\n",
    "\n",
    "df = sort(df, :mse)\n",
    "markdown_table = dataframe_to_markdown_table(first(df, 10), headers)\n",
    "open(\"ridge_momentum_hypertuning.txt\", \"w\") do io\n",
    "  write(io, markdown_table)\n",
    "end"
   ]
  },
  {
   "cell_type": "code",
   "execution_count": null,
   "metadata": {},
   "outputs": [
    {
     "data": {
      "text/plain": [
       "1642"
      ]
     },
     "metadata": {},
     "output_type": "display_data"
    }
   ],
   "source": [
    "\n"
   ]
  }
 ],
 "metadata": {
  "kernelspec": {
   "display_name": "Julia 1.11.1",
   "language": "julia",
   "name": "julia-1.11"
  },
  "language_info": {
   "file_extension": ".jl",
   "mimetype": "application/julia",
   "name": "julia",
   "version": "1.11.1"
  }
 },
 "nbformat": 4,
 "nbformat_minor": 2
}
